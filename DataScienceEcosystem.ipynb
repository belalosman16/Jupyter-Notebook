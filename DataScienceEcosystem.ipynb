{
 "cells": [
  {
   "cell_type": "markdown",
   "id": "1b07f97c-7141-4869-b93b-12caa85fc204",
   "metadata": {},
   "source": [
    "# Data Science Tools and Ecosystem"
   ]
  },
  {
   "cell_type": "markdown",
   "id": "81141b9e-a486-4578-969e-d906a9b14b67",
   "metadata": {},
   "source": [
    "In this notebook, Data Science Tools and Ecosystem are summarized."
   ]
  },
  {
   "cell_type": "markdown",
   "id": "0c715074-5f6e-48dc-8efa-3bfba431baa4",
   "metadata": {},
   "source": [
    "* python\n",
    "    * pyQt\n",
    "    * flask\n",
    "    * pandas\n",
    "* java\n",
    "    * hibernate\n",
    "    * spring\n",
    "* PHP \n",
    "* ruby"
   ]
  },
  {
   "cell_type": "markdown",
   "id": "aa8c3443-7a4a-4054-a814-9063cb947e83",
   "metadata": {},
   "source": [
    "## Author\n",
    "Belal Mostafa"
   ]
  },
  {
   "cell_type": "markdown",
   "id": "40ae6591-9464-43e0-80b7-347b5085561b",
   "metadata": {},
   "source": [
    "1. TensorFlow.\n",
    "2. NumPy.\n",
    "3. SciPy.\n",
    "4. Pandas.\n",
    "5. Matplotlib.\n",
    "6. Keras.\n",
    "7. SciKit-Learn.\n",
    "8. PyTorch.\n",
    "9. Scrapy.\n",
    "10. BeautifulSoup."
   ]
  },
  {
   "cell_type": "code",
   "execution_count": 4,
   "id": "2c29f32b-816d-4fdc-a105-3eb7dd94abec",
   "metadata": {
    "tags": []
   },
   "outputs": [
    {
     "data": {
      "text/plain": [
       "17"
      ]
     },
     "execution_count": 4,
     "metadata": {},
     "output_type": "execute_result"
    }
   ],
   "source": [
    "(3*4)+5"
   ]
  },
  {
   "cell_type": "code",
   "execution_count": null,
   "id": "06eecee8-355c-4ab1-86ab-c6fae62a554f",
   "metadata": {},
   "outputs": [],
   "source": []
  }
 ],
 "metadata": {
  "kernelspec": {
   "display_name": "Python",
   "language": "python",
   "name": "conda-env-python-py"
  },
  "language_info": {
   "codemirror_mode": {
    "name": "ipython",
    "version": 3
   },
   "file_extension": ".py",
   "mimetype": "text/x-python",
   "name": "python",
   "nbconvert_exporter": "python",
   "pygments_lexer": "ipython3",
   "version": "3.7.12"
  }
 },
 "nbformat": 4,
 "nbformat_minor": 5
}
